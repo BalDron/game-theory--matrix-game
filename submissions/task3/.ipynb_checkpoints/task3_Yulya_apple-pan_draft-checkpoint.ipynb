{
 "cells": [
  {
   "cell_type": "code",
   "execution_count": 1,
   "metadata": {},
   "outputs": [],
   "source": [
    "import io\n",
    "import requests\n",
    "import pandas as pd\n",
    "import itertools as it"
   ]
  },
  {
   "cell_type": "code",
   "execution_count": 8,
   "metadata": {},
   "outputs": [],
   "source": [
    "def read(name):\n",
    "    return pd.read_csv('/Users/sonyaserebryakova/PycharmProjects/msu_2019-2020/artem-pyanykh-cmc-prac-task3-seed17/out/input/'+name)"
   ]
  },
  {
   "cell_type": "code",
   "execution_count": 9,
   "metadata": {},
   "outputs": [],
   "source": [
    "def sell_per_day(df):\n",
    "    df['date'] = pd.to_datetime(df.date, format='%Y-%m-%d')\n",
    "    df['sku_num'] = df['sku_num'].str[6:8]\n",
    "    sell = df.groupby(pd.Grouper(key='date', freq='D'))['sku_num'].value_counts()\n",
    "    df1 = sell[sell.index.get_level_values(1) == 'ap']\n",
    "    df2 = sell[sell.index.get_level_values(1) == 'pe']\n",
    "    df1 = df1.droplevel(1)\n",
    "    df2 = df2.droplevel(1)\n",
    "    return df1, df2\n",
    "    "
   ]
  },
  {
   "cell_type": "code",
   "execution_count": 10,
   "metadata": {},
   "outputs": [],
   "source": [
    "from datetime import datetime\n",
    "\n",
    "def check_dims(ar1, ar2):\n",
    "    a = ar1.reset_index()\n",
    "    a['date'] = pd.to_datetime(a.date, format='%Y-%m-%d')\n",
    "    b = ar2.reset_index()\n",
    "    \n",
    "    res = pd.concat([a['date'], b['date']]).drop_duplicates(keep=False)\n",
    "    \n",
    "    if res.empty:\n",
    "        return -1, -1\n",
    "   \n",
    "    d1 = datetime.strptime(\"2006-01-01\", '%Y-%m-%d')\n",
    "    d2 = datetime.strptime(str(res.values)[2:12], '%Y-%m-%d')\n",
    "\n",
    "    return (d2 - d1).days, d2\n",
    "    \n",
    "    "
   ]
  },
  {
   "cell_type": "code",
   "execution_count": 11,
   "metadata": {
    "scrolled": true
   },
   "outputs": [],
   "source": [
    "def left_in_stock(df, name1, name2, product): # name1 = MS-b1-supply.csv product apple or pan\n",
    "    # df - кол-во проданного товара в кадый день\n",
    "    idx = df[(df.index.day == 1) | (df.index.day == 15)] # из датасета продаж выбираем продажи в 1 и 15 день\n",
    "    supply = read(name1) # привезли на склад \n",
    "    \n",
    "    i, d2 = check_dims(supply, idx)\n",
    "    if i != -1:\n",
    "        new_row = pd.Series([0], index=[str(d2)[:10]])\n",
    "        new_row.index = pd.to_datetime(new_row.index, format='%Y-%m-%d')\n",
    "        new_row.index.name = 'date'\n",
    "        df = pd.concat([df.iloc[:i], new_row, df.iloc[i:]])\n",
    "        idx = df[(df.index.day == 1) | (df.index.day == 15)]\n",
    "        \n",
    "    df[idx.index] = supply[product] - idx.values # в каждый 1 и 15 день месяца привозят новый товар => нам надо в эти дни \n",
    "                        # прибавить привезенный и вычесть то что продали\n",
    "        \n",
    "    idx  = df[(df.index.day != 1) & (df.index.day != 15)]\n",
    "    df[idx.index] *= -1 # умножаем на -1 все дни которые не 1 и не 15, потому что it.accumulate умеет тока складывать\n",
    "    \n",
    "    on_stock = read(name2) # в конце месяца у нас есть данные сколько продуктов осталось на складе на самом деле\n",
    "                              # эти данные отличаются от полученных мной(изза краж) соглавно заданию нам надо в конце кажд месяца\n",
    "                              # заменить данные посчитанные мной на известные. Что я и буду ща делать\n",
    "    on_stock['date'] = pd.to_datetime(on_stock.date, format='%Y-%m-%d')\n",
    "    df[on_stock.date] = on_stock[product]\n",
    "    \n",
    "    daily_on_stock = []  # ну а терь считам скока осталось на складе каждый день \n",
    "    # day 01.1: supply - sell_1\n",
    "    # day 01.2: supply - sell_1 - sell_2\n",
    "    # day 01.3: supply - sell_1 - sell_2 - sell_3\n",
    "    # ...\n",
    "    # day 01.15: day 14 + supply - sell_15\n",
    "    # day 01.31: on_stock[product]\n",
    "    # day 02.1: on_stock[product] - sell_32\n",
    "    for i in range(len(on_stock)):\n",
    "        if i == 0:\n",
    "            ss = df[(df.index < on_stock.date[i])]\n",
    "        else:\n",
    "            ss = df[(df.index >= d) & (df.index < on_stock.date[i])]\n",
    "            \n",
    "        daily_on_stock += list(it.accumulate(ss))\n",
    "        d = on_stock.date[i]\n",
    "        \n",
    "    daily_on_stock.append(int(on_stock[product].tail(1).values)) \n",
    "    return daily_on_stock"
   ]
  },
  {
   "cell_type": "code",
   "execution_count": 25,
   "metadata": {},
   "outputs": [],
   "source": [
    "def check_daily_on_stock(my_ans_apple, my_ans_pen, ans):\n",
    "    res1 = pd.concat([pd.Series(my_ans_apple), ans['apple']]).drop_duplicates(keep=False)\n",
    "    res2 = pd.concat([pd.Series(my_ans_pen), ans['pen']]).drop_duplicates(keep=False)\n",
    "    return res1.empty and res2.empty"
   ]
  },
  {
   "cell_type": "code",
   "execution_count": 19,
   "metadata": {},
   "outputs": [],
   "source": [
    "names_sell = ['MS-b1-sell.csv', \n",
    "         'MS-b2-sell.csv',\n",
    "         'MS-m1-sell.csv',\n",
    "         'MS-m2-sell.csv',\n",
    "         'MS-s1-sell.csv',\n",
    "         'MS-s2-sell.csv',\n",
    "         'MS-s3-sell.csv',\n",
    "         'MS-s4-sell.csv',\n",
    "         'MS-s5-sell.csv']\n",
    "\n",
    "names_supply = ['MS-b1-supply.csv', \n",
    "         'MS-b2-supply.csv',\n",
    "         'MS-m1-supply.csv',\n",
    "         'MS-m2-supply.csv',\n",
    "         'MS-s1-supply.csv',\n",
    "         'MS-s2-supply.csv',\n",
    "         'MS-s3-supply.csv',\n",
    "         'MS-s4-supply.csv',\n",
    "         'MS-s5-supply.csv']\n",
    "\n",
    "names_inventory = ['MS-b1-inventory.csv', \n",
    "         'MS-b2-inventory.csv',\n",
    "         'MS-m1-inventory.csv',\n",
    "         'MS-m2-inventory.csv',\n",
    "         'MS-s1-inventory.csv',\n",
    "         'MS-s2-inventory.csv',\n",
    "         'MS-s3-inventory.csv',\n",
    "         'MS-s4-inventory.csv',\n",
    "         'MS-s5-inventory.csv']"
   ]
  },
  {
   "cell_type": "code",
   "execution_count": 28,
   "metadata": {
    "scrolled": false
   },
   "outputs": [],
   "source": [
    "apple_on_stock = []\n",
    "pen_on_stock = []\n",
    "for name in zip(names_sell, names_supply, names_inventory):\n",
    "    sell = read(name[0])\n",
    "    daily_sales_apple, daily_sales_pen = sell_per_day(sell)\n",
    "    apple_on_stock.append(left_in_stock(daily_sales_apple, name[1], name[2], 'apple'))\n",
    "    pen_on_stock.append(left_in_stock(daily_sales_pen, name[1], name[2], 'pen'))\n"
   ]
  },
  {
   "cell_type": "code",
   "execution_count": 23,
   "metadata": {},
   "outputs": [],
   "source": [
    "answers = ['MS-b1-daily.csv',\n",
    "           'MS-b2-daily.csv',\n",
    "           'MS-m1-daily.csv',\n",
    "           'MS-m2-daily.csv',\n",
    "           'MS-s1-daily.csv',\n",
    "           'MS-s2-daily.csv',\n",
    "           'MS-s3-daily.csv',\n",
    "           'MS-s4-daily.csv',\n",
    "           'MS-s5-daily.csv']\n"
   ]
  },
  {
   "cell_type": "markdown",
   "metadata": {},
   "source": [
    "### А теперь сравним то, что получилось с ответами:"
   ]
  },
  {
   "cell_type": "code",
   "execution_count": 27,
   "metadata": {
    "scrolled": false
   },
   "outputs": [
    {
     "name": "stdout",
     "output_type": "stream",
     "text": [
      "OK\n"
     ]
    }
   ],
   "source": [
    "for i, ans in enumerate(answers):\n",
    "    ans = ans = pd.read_csv('/Users/sonyaserebryakova/PycharmProjects/msu_2019-2020/artem-pyanykh-cmc-prac-task3-seed17/out/answer/'+ans)\n",
    "    if check_daily_on_stock(apple_on_stock[i], pen_on_stock[i], ans) == False:\n",
    "        print('NOT OK')\n",
    "        break\n",
    "\n",
    "print('OK')"
   ]
  },
  {
   "cell_type": "markdown",
   "metadata": {},
   "source": [
    "### 2. Подсчет сворованного товара за каждый месяц"
   ]
  },
  {
   "cell_type": "code",
   "execution_count": 4,
   "metadata": {},
   "outputs": [],
   "source": [
    "def fetchData(url): \n",
    "    urlData = requests.get(url).content\n",
    "    rawData = pd.read_csv(io.StringIO(urlData.decode('utf-8')))\n",
    "    return rawData"
   ]
  },
  {
   "cell_type": "markdown",
   "metadata": {},
   "source": [
    "Загрузим данные"
   ]
  },
  {
   "cell_type": "code",
   "execution_count": null,
   "metadata": {},
   "outputs": [],
   "source": [
    "markets = ['b1', 'b2', 'm1', 'm2', 's1', 's2', 's3', 's4', 's5']   # id'шники магазинов\n",
    "data = []\n",
    "\n",
    "for market in markets:\n",
    "    inventory = fetchData(f'https://storage.googleapis.com/artem-pyanykh-cmc-prac-task3-seed17/out/input/MS-{market}-inventory.csv')\n",
    "    sell = fetchData(f'https://storage.googleapis.com/artem-pyanykh-cmc-prac-task3-seed17/out/input/MS-{market}-sell.csv')\n",
    "    supply = fetchData(f'https://storage.googleapis.com/artem-pyanykh-cmc-prac-task3-seed17/out/input/MS-{market}-supply.csv')\n",
    "    data.append((inventory, sell, supply))"
   ]
  },
  {
   "cell_type": "markdown",
   "metadata": {},
   "source": [
    "Переведем в удобный формат (присвоим индексам таблицы дату)"
   ]
  },
  {
   "cell_type": "code",
   "execution_count": null,
   "metadata": {},
   "outputs": [],
   "source": [
    "for market in dataReserve:\n",
    "    for file in market:\n",
    "        file['date'] = pd.to_datetime(file.date, format='%Y-%m-%d')\n",
    "        file.index = file.date\n",
    "        file.drop('date', axis=1, inplace=True)"
   ]
  },
  {
   "cell_type": "markdown",
   "metadata": {},
   "source": [
    "Создадим нужный временной интервал"
   ]
  },
  {
   "cell_type": "code",
   "execution_count": null,
   "metadata": {},
   "outputs": [],
   "source": [
    "daterange = pd.date_range('2006-01','2015-12', \n",
    "                          freq='MS').strftime(\"%Y-%m\").tolist()"
   ]
  },
  {
   "cell_type": "markdown",
   "metadata": {},
   "source": [
    "Подсчет украденных яблок и карандашей для каждого магазина"
   ]
  },
  {
   "cell_type": "code",
   "execution_count": null,
   "metadata": {},
   "outputs": [],
   "source": [
    "rows, result = [], []\n",
    "\n",
    "for market, name in zip(dataReserve, markets):\n",
    "    if rows:\n",
    "        result.append(pd.DataFrame(rows, columns=columns))\n",
    "    columns = ['date', 'apple', 'pen']\n",
    "    rows = []\n",
    "    inventory_apple_at_the_end_of_month = 0\n",
    "    inventory_pen_at_the_end_of_month = 0\n",
    "    for month in daterange:\n",
    "        total_apple_supply_in_month = market[2].loc[month].apple.sum() + inventory_apple_at_the_end_of_month            \n",
    "        total_pen_supply_in_month = market[2].loc[month].pen.sum() + inventory_pen_at_the_end_of_month\n",
    "        total_apple_sell_in_month = len(market[1].loc[month][market[1].loc[month]['sku_num'].str.match(f'MS-{name}-a')])\n",
    "        total_pen_sell_in_month = len(market[1].loc[month][market[1].loc[month]['sku_num'].str.match(f'MS-{name}-p')])\n",
    "        inventory_apple_at_the_end_of_month = market[0].loc[month].apple.sum()\n",
    "        inventory_pen_at_the_end_of_month = market[0].loc[month].pen.sum()        \n",
    "        stolen_apples = total_apple_supply_in_month - total_apple_sell_in_month - inventory_apple_at_the_end_of_month\n",
    "        stolen_pens = total_pen_supply_in_month - total_pen_sell_in_month - inventory_pen_at_the_end_of_month\n",
    "        row = [month, stolen_apples, stolen_pens]\n",
    "        rows.append(row)\n",
    "        \n",
    "result.append(pd.DataFrame(rows, columns=columns))"
   ]
  },
  {
   "cell_type": "markdown",
   "metadata": {},
   "source": [
    "Сохраним таблицы сворованных товаров в csv"
   ]
  },
  {
   "cell_type": "code",
   "execution_count": null,
   "metadata": {},
   "outputs": [],
   "source": [
    "for df, name in zip(result, markets):\n",
    "    df.to_csv(f'MS-{name}-steal.csv', index=False)"
   ]
  }
 ],
 "metadata": {
  "kernelspec": {
   "display_name": "Python 3",
   "language": "python",
   "name": "python3"
  },
  "language_info": {
   "codemirror_mode": {
    "name": "ipython",
    "version": 3
   },
   "file_extension": ".py",
   "mimetype": "text/x-python",
   "name": "python",
   "nbconvert_exporter": "python",
   "pygments_lexer": "ipython3",
   "version": "3.6.8"
  }
 },
 "nbformat": 4,
 "nbformat_minor": 4
}
