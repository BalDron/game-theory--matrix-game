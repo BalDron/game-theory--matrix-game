{
 "cells": [
  {
   "cell_type": "code",
   "execution_count": 2,
   "metadata": {},
   "outputs": [],
   "source": [
    "import numpy as np\n",
    "import matplotlib.pyplot as plt\n",
    "\n",
    "def pivot_on(a, row, col):\n",
    "    pivot = a[row][col]\n",
    "    for j in range(a.shape[1]):\n",
    "        a[row][j] /= pivot\n",
    "    for i in range(a.shape[0]):\n",
    "        if i == row:\n",
    "            continue\n",
    "        mult = a[i][col]\n",
    "        for j in range(a.shape[1]):\n",
    "            a[i][j] -= mult * a[row][j]\n",
    "\n",
    "\n",
    "def find_pivot_col(a):\n",
    "    pivot_col = 1\n",
    "    lowest = a[0][pivot_col]\n",
    "    for j in range(1, a.shape[1]):\n",
    "        if a[0][j] < lowest:\n",
    "            lowest = a[0][j]\n",
    "            pivot_col = j\n",
    "    if lowest >= 0:\n",
    "        return -1\n",
    "    return pivot_col\n",
    "\n",
    "\n",
    "def find_pivot_row(a, pivot_col):\n",
    "    pivot_row = 0\n",
    "    min_ratio = -1.0\n",
    "    for i in range(1, a.shape[0]):\n",
    "        ratio = a[i][0] / a[i][pivot_col]\n",
    "        if (0 < ratio < min_ratio) or min_ratio < 0:\n",
    "            min_ratio = ratio\n",
    "            pivot_row = i\n",
    "    if min_ratio < 0:\n",
    "        return -1\n",
    "    return pivot_row\n",
    "\n",
    "\n",
    "def add_slack_var(a):\n",
    "    I = np.vstack((np.zeros(a.shape[1]), np.eye(a.shape[0])))\n",
    "    b = np.array([1, ] * (a.shape[0] + 1)).reshape(a.shape[0] + 1, -1)\n",
    "    b[0][0] = 0\n",
    "    c = np.array([-1, ] * a.shape[1])\n",
    "    a = np.vstack((c, a))\n",
    "    a = np.hstack((b, a))\n",
    "    a = np.hstack((a, I))\n",
    "    return a\n",
    "\n",
    "\n",
    "def check_b_positive(a):\n",
    "    for i in range(1, a.shape[0]):\n",
    "        assert(a[i][0] == 1)\n",
    "\n",
    "\n",
    "def find_basis_variable(a, col):\n",
    "    xi = -1\n",
    "    for i in range(1, a.shape[0]):\n",
    "        if a[i][col] == 1:\n",
    "            if xi == -1:\n",
    "                xi = i\n",
    "            else:\n",
    "                return -1\n",
    "        else:\n",
    "            if a[i][col] != 0:\n",
    "                return -1\n",
    "    return xi\n",
    "\n",
    "\n",
    "def optimal_strategy(a, b):\n",
    "    p = []\n",
    "    q = []\n",
    "    for j in range(1, a.shape[1]):\n",
    "        xi = find_basis_variable(a, j)\n",
    "        if xi != -1:\n",
    "            if j < a.shape[0]:\n",
    "                q.append(a[xi][0])\n",
    "            else:\n",
    "                p.append(a[0][j])\n",
    "        else:\n",
    "            if j < a.shape[0]:\n",
    "                q.append(0)\n",
    "            else:\n",
    "                p.append(a[0][j])\n",
    "    sum1 = sum(q)\n",
    "    sum2 = sum(p)\n",
    "    for i in range(len(q)):\n",
    "        q[i] /= sum1\n",
    "    for i in range(len(p)):\n",
    "        p[i] /= sum2\n",
    "    return p, q, 1 / sum1 - b\n",
    "\n",
    "\n",
    "def nash_equilibrium(a):\n",
    "    loop = 1\n",
    "    min_val = a.min()\n",
    "    b = 0\n",
    "    if min_val <= 0:\n",
    "        b = -min_val + 1\n",
    "        a = a + b\n",
    "    a = add_slack_var(a)\n",
    "    check_b_positive(a)\n",
    "    while loop:\n",
    "        pivot_col = find_pivot_col(a)\n",
    "        if pivot_col < 0:\n",
    "            p, q, s = optimal_strategy(a, b)\n",
    "            return p, q, s\n",
    "        pivot_row = find_pivot_row(a, pivot_col)\n",
    "        if pivot_row < 0:\n",
    "            print('(no pivot row')\n",
    "            break\n",
    "        pivot_on(a, pivot_row, pivot_col)\n",
    "        if loop > 20:\n",
    "            print('Too many iterations')\n",
    "            break\n",
    "        loop += 1\n",
    "\n",
    "        \n",
    "def visualization(p):\n",
    "    x = np.linspace(1, len(p), len(p) )\n",
    "    \n",
    "    plt.axis([0, len(p) + 1, 0, max(p) + 1/2]) \n",
    "    plt.style.use('ggplot')\n",
    "    plt.stem(x, p, use_line_collection=True, basefmt=' ')\n",
    "    plt.show()\n",
    "        \n",
    "\n",
    "def main(a = None):\n",
    "    if a is None:\n",
    "        n = int(input())\n",
    "        m = int(input())\n",
    "        a = []\n",
    "        for i in range(n):\n",
    "            a.append([])\n",
    "        for j in range(m):\n",
    "            a[j] = list(map(int, input().split()))\n",
    "        a = np.array(a)\n",
    "    p, q, s = nash_equilibrium(a)\n",
    "    visualization(p)\n",
    "    visualization(q)\n",
    "    print('\\n Game value is :', s,\n",
    "          '\\n optimal strategy for 1st player : ', p,\n",
    "          '\\n optimal strategy for 2nd player : ', q)\n",
    "\n",
    "\n",
    "if __name__ == \"__main__\":\n",
    "    main()"
   ]
  },
  {
   "cell_type": "markdown",
   "metadata": {},
   "source": [
    "# Examples"
   ]
  },
  {
   "cell_type": "markdown",
   "metadata": {},
   "source": [
    "## 1. Nash Equilibrium in Pure Strategies"
   ]
  },
  {
   "cell_type": "code",
   "execution_count": 4,
   "metadata": {},
   "outputs": [
    {
     "data": {
      "image/png": "[encoded data removed]",
      "text/plain": [
       "<Figure size 432x288 with 1 Axes>"
      ]
     },
     "metadata": {},
     "output_type": "display_data"
    },
    {
     "data": {
      "image/png": "[encoded data removed]",
      "text/plain": [
       "<Figure size 432x288 with 1 Axes>"
      ]
     },
     "metadata": {},
     "output_type": "display_data"
    },
    {
     "name": "stdout",
     "output_type": "stream",
     "text": [
      "\n",
      " Game value is : 0.0 \n",
      " optimal strategy for 1st player :  [1.0, 0.0] \n",
      " optimal strategy for 2nd player :  [0.0, 1.0]\n"
     ]
    }
   ],
   "source": [
    "a = np.array([[5,0],\n",
    "               [6,0]])\n",
    "\n",
    "main(a)"
   ]
  },
  {
   "cell_type": "markdown",
   "metadata": {},
   "source": [
    "## 2. The spectrum of optimal strategy is incomplete"
   ]
  },
  {
   "cell_type": "code",
   "execution_count": 5,
   "metadata": {},
   "outputs": [
    {
     "data": {
      "image/png": "[encoded data removed]",
      "text/plain": [
       "<Figure size 432x288 with 1 Axes>"
      ]
     },
     "metadata": {},
     "output_type": "display_data"
    },
    {
     "data": {
      "image/png": "[encoded data removed]",
      "text/plain": [
       "<Figure size 432x288 with 1 Axes>"
      ]
     },
     "metadata": {},
     "output_type": "display_data"
    },
    {
     "name": "stdout",
     "output_type": "stream",
     "text": [
      "\n",
      " Game value is : 5.6 \n",
      " optimal strategy for 1st player :  [0.4, 0.6, 0.0] \n",
      " optimal strategy for 2nd player :  [0.7999999999999999, 0.20000000000000004, 0.0]\n"
     ]
    }
   ],
   "source": [
    "a = np.array([[5, 8, 10],\n",
    "              [6, 4, 10],\n",
    "              [0, 0, 0]])\n",
    "main(a)"
   ]
  },
  {
   "cell_type": "markdown",
   "metadata": {},
   "source": [
    "## 3. The spectrum of optimal strategy is full"
   ]
  },
  {
   "cell_type": "code",
   "execution_count": 6,
   "metadata": {},
   "outputs": [
    {
     "data": {
      "image/png": "[encoded data removed]",
      "text/plain": [
       "<Figure size 432x288 with 1 Axes>"
      ]
     },
     "metadata": {},
     "output_type": "display_data"
    },
    {
     "data": {
      "image/png": "[encoded data removed]",
      "text/plain": [
       "<Figure size 432x288 with 1 Axes>"
      ]
     },
     "metadata": {},
     "output_type": "display_data"
    },
    {
     "name": "stdout",
     "output_type": "stream",
     "text": [
      "\n",
      " Game value is : 5.6 \n",
      " optimal strategy for 1st player :  [0.4, 0.6] \n",
      " optimal strategy for 2nd player :  [0.7999999999999999, 0.20000000000000007]\n"
     ]
    }
   ],
   "source": [
    "a = np.array([[5, 8],\n",
    "              [6, 4]])\n",
    "main(a)"
   ]
  }
 ],
 "metadata": {
  "kernelspec": {
   "display_name": "Python 3",
   "language": "python",
   "name": "python3"
  },
  "language_info": {
   "codemirror_mode": {
    "name": "ipython",
    "version": 3
   },
   "file_extension": ".py",
   "mimetype": "text/x-python",
   "name": "python",
   "nbconvert_exporter": "python",
   "pygments_lexer": "ipython3",
   "version": "3.6.5"
  }
 },
 "nbformat": 4,
 "nbformat_minor": 2
}
